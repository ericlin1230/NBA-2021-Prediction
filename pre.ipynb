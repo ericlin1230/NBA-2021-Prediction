{
 "metadata": {
  "language_info": {
   "codemirror_mode": {
    "name": "ipython",
    "version": 3
   },
   "file_extension": ".py",
   "mimetype": "text/x-python",
   "name": "python",
   "nbconvert_exporter": "python",
   "pygments_lexer": "ipython3",
   "version": "3.8.8"
  },
  "orig_nbformat": 4,
  "kernelspec": {
   "name": "python3",
   "display_name": "Python 3.8.8 64-bit ('base': conda)"
  },
  "interpreter": {
   "hash": "34dfee18d5f4a96df9a8fcc719c91cf50e8ed50de2aa108bf45cd20982063274"
  }
 },
 "nbformat": 4,
 "nbformat_minor": 2,
 "cells": [
  {
   "source": [
    "# NBA Champion Prediction 2021 #\n",
    "\n",
    "It's another season of NBA, teams are soon to be locked in for playoffs and getting eliminated but nothing has been set in stone yet. With the data of each NBA teams from each season, including stats such as free throw percentage, field goal percentage, three point percentage, I decided it would be fun to use past NBA season to predict the NBA champion of season 2021.\n"
   ],
   "cell_type": "markdown",
   "metadata": {}
  },
  {
   "cell_type": "code",
   "execution_count": 1,
   "metadata": {},
   "outputs": [],
   "source": [
    "import pandas as pd\n",
    "import numpy as np\n",
    "from IPython.display import display\n",
    "from sklearn.model_selection import train_test_split\n",
    "from tensorflow import keras\n",
    "from tensorflow.keras import layers\n",
    "from tensorflow.keras import initializers\n",
    "from sklearn.preprocessing import StandardScaler\n"
   ]
  },
  {
   "source": [
    "The NBA stats since 1980 - May 1st, 2021, retrieved from [Kaggle](https://www.kaggle.com/sumitrodatta/nba-aba-baa-stats), cleaned and combined with past championship winning record in R using tidyverse."
   ],
   "cell_type": "markdown",
   "metadata": {}
  },
  {
   "cell_type": "code",
   "execution_count": 2,
   "metadata": {},
   "outputs": [
    {
     "output_type": "execute_result",
     "data": {
      "text/plain": [
       "   season lg.x                 team abbreviation.x  playoffs.x   g     mp  \\\n",
       "0    2021  NBA        Atlanta Hawks            ATL       False  64  15485   \n",
       "1    2021  NBA       Boston Celtics            BOS       False  64  15460   \n",
       "2    2021  NBA        Chicago Bulls            CHI       False  63  15220   \n",
       "3    2021  NBA    Charlotte Hornets            CHO       False  62  14930   \n",
       "4    2021  NBA  Cleveland Cavaliers            CLE       False  63  15245   \n",
       "\n",
       "     fg   fga  fg_percent  ...  orb_percent  ft_fga  opp_e_fg_percent  \\\n",
       "0  2575  5579       0.462  ...         24.6   0.227             0.531   \n",
       "1  2648  5677       0.466  ...         24.9   0.186             0.538   \n",
       "2  2664  5570       0.478  ...         22.0   0.160             0.539   \n",
       "3  2480  5418       0.458  ...         23.1   0.182             0.551   \n",
       "4  2452  5408       0.453  ...         23.7   0.189             0.553   \n",
       "\n",
       "   opp_tov_percent  opp_drb_percent  opp_ft_fga                arena  attend  \\\n",
       "0             11.2             77.4       0.194     State Farm Arena   37810   \n",
       "1             12.9             77.9       0.212            TD Garden   22980   \n",
       "2             11.5             80.3       0.199        United Center       0   \n",
       "3             13.4             75.8       0.162      Spectrum Center   40239   \n",
       "4             13.6             76.4       0.186  Quicken Loans Arena   66588   \n",
       "\n",
       "   attend_g      wpct  \n",
       "0      1304  0.531250  \n",
       "1       696  0.531250  \n",
       "2         0  0.412698  \n",
       "3      1388  0.483871  \n",
       "4      2220  0.333333  \n",
       "\n",
       "[5 rows x 59 columns]"
      ],
      "text/html": "<div>\n<style scoped>\n    .dataframe tbody tr th:only-of-type {\n        vertical-align: middle;\n    }\n\n    .dataframe tbody tr th {\n        vertical-align: top;\n    }\n\n    .dataframe thead th {\n        text-align: right;\n    }\n</style>\n<table border=\"1\" class=\"dataframe\">\n  <thead>\n    <tr style=\"text-align: right;\">\n      <th></th>\n      <th>season</th>\n      <th>lg.x</th>\n      <th>team</th>\n      <th>abbreviation.x</th>\n      <th>playoffs.x</th>\n      <th>g</th>\n      <th>mp</th>\n      <th>fg</th>\n      <th>fga</th>\n      <th>fg_percent</th>\n      <th>...</th>\n      <th>orb_percent</th>\n      <th>ft_fga</th>\n      <th>opp_e_fg_percent</th>\n      <th>opp_tov_percent</th>\n      <th>opp_drb_percent</th>\n      <th>opp_ft_fga</th>\n      <th>arena</th>\n      <th>attend</th>\n      <th>attend_g</th>\n      <th>wpct</th>\n    </tr>\n  </thead>\n  <tbody>\n    <tr>\n      <th>0</th>\n      <td>2021</td>\n      <td>NBA</td>\n      <td>Atlanta Hawks</td>\n      <td>ATL</td>\n      <td>False</td>\n      <td>64</td>\n      <td>15485</td>\n      <td>2575</td>\n      <td>5579</td>\n      <td>0.462</td>\n      <td>...</td>\n      <td>24.6</td>\n      <td>0.227</td>\n      <td>0.531</td>\n      <td>11.2</td>\n      <td>77.4</td>\n      <td>0.194</td>\n      <td>State Farm Arena</td>\n      <td>37810</td>\n      <td>1304</td>\n      <td>0.531250</td>\n    </tr>\n    <tr>\n      <th>1</th>\n      <td>2021</td>\n      <td>NBA</td>\n      <td>Boston Celtics</td>\n      <td>BOS</td>\n      <td>False</td>\n      <td>64</td>\n      <td>15460</td>\n      <td>2648</td>\n      <td>5677</td>\n      <td>0.466</td>\n      <td>...</td>\n      <td>24.9</td>\n      <td>0.186</td>\n      <td>0.538</td>\n      <td>12.9</td>\n      <td>77.9</td>\n      <td>0.212</td>\n      <td>TD Garden</td>\n      <td>22980</td>\n      <td>696</td>\n      <td>0.531250</td>\n    </tr>\n    <tr>\n      <th>2</th>\n      <td>2021</td>\n      <td>NBA</td>\n      <td>Chicago Bulls</td>\n      <td>CHI</td>\n      <td>False</td>\n      <td>63</td>\n      <td>15220</td>\n      <td>2664</td>\n      <td>5570</td>\n      <td>0.478</td>\n      <td>...</td>\n      <td>22.0</td>\n      <td>0.160</td>\n      <td>0.539</td>\n      <td>11.5</td>\n      <td>80.3</td>\n      <td>0.199</td>\n      <td>United Center</td>\n      <td>0</td>\n      <td>0</td>\n      <td>0.412698</td>\n    </tr>\n    <tr>\n      <th>3</th>\n      <td>2021</td>\n      <td>NBA</td>\n      <td>Charlotte Hornets</td>\n      <td>CHO</td>\n      <td>False</td>\n      <td>62</td>\n      <td>14930</td>\n      <td>2480</td>\n      <td>5418</td>\n      <td>0.458</td>\n      <td>...</td>\n      <td>23.1</td>\n      <td>0.182</td>\n      <td>0.551</td>\n      <td>13.4</td>\n      <td>75.8</td>\n      <td>0.162</td>\n      <td>Spectrum Center</td>\n      <td>40239</td>\n      <td>1388</td>\n      <td>0.483871</td>\n    </tr>\n    <tr>\n      <th>4</th>\n      <td>2021</td>\n      <td>NBA</td>\n      <td>Cleveland Cavaliers</td>\n      <td>CLE</td>\n      <td>False</td>\n      <td>63</td>\n      <td>15245</td>\n      <td>2452</td>\n      <td>5408</td>\n      <td>0.453</td>\n      <td>...</td>\n      <td>23.7</td>\n      <td>0.189</td>\n      <td>0.553</td>\n      <td>13.6</td>\n      <td>76.4</td>\n      <td>0.186</td>\n      <td>Quicken Loans Arena</td>\n      <td>66588</td>\n      <td>2220</td>\n      <td>0.333333</td>\n    </tr>\n  </tbody>\n</table>\n<p>5 rows × 59 columns</p>\n</div>"
     },
     "metadata": {},
     "execution_count": 2
    }
   ],
   "source": [
    "past_data = pd.read_csv('nba_champs_comb1.csv')\n",
    "past_data.head()\n",
    "\n",
    "data_2021 = pd.read_csv('sea21.csv')\n",
    "data_2021.head()"
   ]
  },
  {
   "source": [
    "Dropping the column not needed for the code, these variables are random effects and are not being considered in the computation "
   ],
   "cell_type": "markdown",
   "metadata": {}
  },
  {
   "cell_type": "code",
   "execution_count": 3,
   "metadata": {},
   "outputs": [
    {
     "output_type": "stream",
     "name": "stdout",
     "text": [
      "(1134, 18)\n(30, 18)\n"
     ]
    }
   ],
   "source": [
    "final_team = data_2021['team']\n",
    "dropping = ['season', 'lg.x', 'team', 'abbreviation.x', 'playoffs.x', 'g', 'lg.y', 'playoffs.y', 'arena', 'attend', 'attend_g', 'w', 'l', 'pw', 'pl', 'abbreviation.y', 'mp', 'fg', 'fga', 'x3p', 'x3pa', 'x2p', 'x2pa', 'ft', 'fta', 'orb', 'drb', 'trb', 'stl', 'pace','f_tr','x3p_ar','ts_percent','e_fg_percent','orb_percent','ft_fga','opp_e_fg_percent','opp_tov_percent','opp_drb_percent','opp_ft_fga']\n",
    "past_data = past_data.drop(dropping, axis=1)\n",
    "data_2021 = data_2021.drop(dropping, axis=1)\n",
    "\n",
    "past_data_y = past_data.pop('champs')\n",
    "data_2021.pop('champs')\n",
    "\n",
    "print(past_data.shape)\n",
    "print(data_2021.shape)"
   ]
  },
  {
   "cell_type": "code",
   "execution_count": 4,
   "metadata": {},
   "outputs": [
    {
     "output_type": "stream",
     "name": "stdout",
     "text": [
      "Input shape: [18]\n"
     ]
    }
   ],
   "source": [
    "X_train, X_test, y_train, y_test = train_test_split(past_data, past_data_y, test_size=0.33, random_state=0)\n",
    "\n",
    "input_shape = [X_train.shape[1]]\n",
    "print(\"Input shape: {}\".format(input_shape))"
   ]
  },
  {
   "cell_type": "code",
   "execution_count": 5,
   "metadata": {},
   "outputs": [],
   "source": [
    "sc = StandardScaler()\n",
    "X_train = sc.fit_transform(X_train)\n",
    "X_test = sc.transform (X_test)"
   ]
  },
  {
   "cell_type": "code",
   "execution_count": 6,
   "metadata": {},
   "outputs": [
    {
     "output_type": "stream",
     "name": "stdout",
     "text": [
      "(759, 18)\n(759,)\n(375, 18)\n(375,)\n"
     ]
    }
   ],
   "source": [
    "print(X_train.shape)\n",
    "print(y_train.shape)\n",
    "print(X_test.shape)\n",
    "print(y_test.shape)"
   ]
  },
  {
   "cell_type": "code",
   "execution_count": 7,
   "metadata": {},
   "outputs": [],
   "source": [
    "model = keras.Sequential([\n",
    "    layers.Dense(6, activation='relu'),\n",
    "    layers.BatchNormalization(),\n",
    "    layers.Dropout(0.3),\n",
    "    layers.Dense(6, activation='relu'),\n",
    "    layers.BatchNormalization(),\n",
    "    layers.Dropout(0.3),\n",
    "    layers.Dense(6, activation='relu'),\n",
    "    layers.BatchNormalization(),\n",
    "    layers.Dropout(0.3),\n",
    "    layers.Dense(1),\n",
    "])"
   ]
  },
  {
   "cell_type": "code",
   "execution_count": 8,
   "metadata": {},
   "outputs": [
    {
     "output_type": "stream",
     "name": "stdout",
     "text": [
      "Epoch 1/1000\n",
      "24/24 [==============================] - 1s 8ms/step - loss: 0.8453 - accuracy: 0.7101 - val_loss: 0.2761 - val_accuracy: 0.8000\n",
      "Epoch 2/1000\n",
      "24/24 [==============================] - 0s 1ms/step - loss: 0.5868 - accuracy: 0.7773 - val_loss: 0.2048 - val_accuracy: 0.8827\n",
      "Epoch 3/1000\n",
      "24/24 [==============================] - 0s 2ms/step - loss: 0.4228 - accuracy: 0.8590 - val_loss: 0.1609 - val_accuracy: 0.9227\n",
      "Epoch 4/1000\n",
      "24/24 [==============================] - 0s 2ms/step - loss: 0.2885 - accuracy: 0.8933 - val_loss: 0.1190 - val_accuracy: 0.9467\n",
      "Epoch 5/1000\n",
      "24/24 [==============================] - 0s 2ms/step - loss: 0.2216 - accuracy: 0.9183 - val_loss: 0.0921 - val_accuracy: 0.9547\n",
      "Epoch 6/1000\n",
      "24/24 [==============================] - 0s 2ms/step - loss: 0.1707 - accuracy: 0.9368 - val_loss: 0.0837 - val_accuracy: 0.9573\n",
      "Epoch 7/1000\n",
      "24/24 [==============================] - 0s 2ms/step - loss: 0.1282 - accuracy: 0.9460 - val_loss: 0.0742 - val_accuracy: 0.9573\n",
      "Epoch 8/1000\n",
      "24/24 [==============================] - 0s 2ms/step - loss: 0.0927 - accuracy: 0.9552 - val_loss: 0.0588 - val_accuracy: 0.9573\n",
      "Epoch 9/1000\n",
      "24/24 [==============================] - 0s 2ms/step - loss: 0.0607 - accuracy: 0.9671 - val_loss: 0.0473 - val_accuracy: 0.9573\n",
      "Epoch 10/1000\n",
      "24/24 [==============================] - 0s 2ms/step - loss: 0.0400 - accuracy: 0.9671 - val_loss: 0.0476 - val_accuracy: 0.9573\n",
      "Epoch 11/1000\n",
      "24/24 [==============================] - 0s 2ms/step - loss: 0.0383 - accuracy: 0.9671 - val_loss: 0.0471 - val_accuracy: 0.9573\n",
      "Epoch 12/1000\n",
      "24/24 [==============================] - 0s 1ms/step - loss: 0.0379 - accuracy: 0.9671 - val_loss: 0.0443 - val_accuracy: 0.9573\n",
      "Epoch 13/1000\n",
      "24/24 [==============================] - 0s 2ms/step - loss: 0.0383 - accuracy: 0.9671 - val_loss: 0.0467 - val_accuracy: 0.9573\n",
      "Epoch 14/1000\n",
      "24/24 [==============================] - 0s 1ms/step - loss: 0.0382 - accuracy: 0.9671 - val_loss: 0.0471 - val_accuracy: 0.9573\n",
      "Epoch 15/1000\n",
      "24/24 [==============================] - 0s 1ms/step - loss: 0.0385 - accuracy: 0.9671 - val_loss: 0.0495 - val_accuracy: 0.9573\n",
      "Epoch 16/1000\n",
      "24/24 [==============================] - 0s 2ms/step - loss: 0.0385 - accuracy: 0.9671 - val_loss: 0.0463 - val_accuracy: 0.9573\n",
      "Epoch 17/1000\n",
      "24/24 [==============================] - 0s 1ms/step - loss: 0.0384 - accuracy: 0.9671 - val_loss: 0.0472 - val_accuracy: 0.9573\n",
      "Epoch 18/1000\n",
      "24/24 [==============================] - 0s 2ms/step - loss: 0.0384 - accuracy: 0.9671 - val_loss: 0.0473 - val_accuracy: 0.9573\n",
      "Epoch 19/1000\n",
      "24/24 [==============================] - 0s 2ms/step - loss: 0.0384 - accuracy: 0.9671 - val_loss: 0.0459 - val_accuracy: 0.9573\n",
      "Epoch 20/1000\n",
      "24/24 [==============================] - 0s 2ms/step - loss: 0.0379 - accuracy: 0.9671 - val_loss: 0.0447 - val_accuracy: 0.9573\n",
      "Epoch 21/1000\n",
      "24/24 [==============================] - 0s 2ms/step - loss: 0.0381 - accuracy: 0.9671 - val_loss: 0.0473 - val_accuracy: 0.9573\n",
      "Epoch 22/1000\n",
      "24/24 [==============================] - 0s 1ms/step - loss: 0.0381 - accuracy: 0.9671 - val_loss: 0.0469 - val_accuracy: 0.9573\n"
     ]
    }
   ],
   "source": [
    "model.compile(\n",
    "    optimizer='sgd',\n",
    "    loss='mae',\n",
    "    metrics=['accuracy'],\n",
    ")\n",
    "\n",
    "early_stopping = keras.callbacks.EarlyStopping(\n",
    "    patience=10,\n",
    "    min_delta=0.001,\n",
    "    restore_best_weights=True,\n",
    ")\n",
    "\n",
    "history = model.fit(\n",
    "    X_train, y_train,\n",
    "    validation_data=(X_test, y_test),\n",
    "    callbacks=[early_stopping],\n",
    "    epochs=1000,\n",
    ")"
   ]
  },
  {
   "cell_type": "code",
   "execution_count": 9,
   "metadata": {},
   "outputs": [],
   "source": [
    "pred_2021 = model.predict(data_2021)"
   ]
  },
  {
   "cell_type": "code",
   "execution_count": 10,
   "metadata": {},
   "outputs": [],
   "source": [
    "final_2021 = pd.DataFrame(final_team)\n",
    "final_2021['champ'] = pred_2021\n",
    "final_2021 = final_2021.sort_values(by=['champ'])\n",
    "final_2021.to_csv('final_ML.csv', index = False)"
   ]
  }
 ]
}